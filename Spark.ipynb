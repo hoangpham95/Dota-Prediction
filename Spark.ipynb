{
 "cells": [
  {
   "cell_type": "code",
   "execution_count": 3,
   "metadata": {},
   "outputs": [],
   "source": [
    "import os\n",
    "\n",
    "ROOT_DIR = \"/home/hpham/Downloads/\"\n",
    "MATCH_SKILL_PATH = os.path.join(ROOT_DIR, \"match_skill.csv\")\n",
    "PLAYER_MATCH_PATH = os.path.join(ROOT_DIR, \"player_matches_small.csv\")\n",
    "MATCHES_SMALL_PATH = os.path.join(ROOT_DIR, \"matches_small.csv\")"
   ]
  },
  {
   "cell_type": "code",
   "execution_count": null,
   "metadata": {},
   "outputs": [],
   "source": [
    "import pandas as pd\n",
    "\n",
    "match_skill_data = pd.read_csv(MATCH_SKILL_PATH)\n",
    "player_match_data = pd.read_csv(PLAYER_MATCH_PATH)\n",
    "matches_small_data = pd.read_csv(MATCHES_SMALL_PATH)"
   ]
  },
  {
   "cell_type": "code",
   "execution_count": null,
   "metadata": {},
   "outputs": [],
   "source": []
  }
 ],
 "metadata": {
  "kernelspec": {
   "display_name": "Python 3",
   "language": "python",
   "name": "python3"
  },
  "language_info": {
   "codemirror_mode": {
    "name": "ipython",
    "version": 3
   },
   "file_extension": ".py",
   "mimetype": "text/x-python",
   "name": "python",
   "nbconvert_exporter": "python",
   "pygments_lexer": "ipython3",
   "version": "3.5.2"
  }
 },
 "nbformat": 4,
 "nbformat_minor": 2
}
